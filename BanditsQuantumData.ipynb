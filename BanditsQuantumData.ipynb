{
 "cells": [
  {
   "cell_type": "code",
   "execution_count": 1,
   "id": "993ed7a9",
   "metadata": {},
   "outputs": [],
   "source": [
    "import numpy as np \n",
    "from numpy import linalg as LA\n",
    "import math \n",
    "from scipy.stats import unitary_group as ungp\n",
    "from numpy.linalg import matrix_rank\n",
    "import matplotlib.pyplot as plt"
   ]
  },
  {
   "cell_type": "code",
   "execution_count": 2,
   "id": "f1df2077",
   "metadata": {},
   "outputs": [],
   "source": [
    "#DEFINING THE PAULI MATRICES\n",
    "identity=np.eye(2)\n",
    "sx=np.matrix([[0,1],[1,0]])\n",
    "sy=np.matrix([[0,-1j],[1j,0]])\n",
    "sz=np.matrix([[1,0],[0,-1]])"
   ]
  },
  {
   "cell_type": "code",
   "execution_count": 3,
   "id": "810c678c",
   "metadata": {},
   "outputs": [],
   "source": [
    "# ALL THE FUNCTIONS ARE HERE \n",
    "\n",
    "#gram schmidt decomp algorithm\n",
    "def gram(v,ctxt_bas,A,b,K,Armsv):\n",
    "    #incoming v is a list \n",
    "    D=len(ctxt_bas) #effective dimension\n",
    "    v=np.matrix(v) #context vectors\n",
    "    v=v.getH()\n",
    "    \n",
    "    v_ct=[] #terms of the context in the gram basis\n",
    "    #v_ct is now a list now\n",
    "    for v_k in ctxt_bas: \n",
    "        # we will make v_k normalised column vectors by design; by adding column vectors in the end\n",
    "        \n",
    "        coeff=v.getH()@v_k\n",
    "        v_ct.append(coeff[0,0])  #The projection of the current context in the smaller space \n",
    "        v=v-coeff[0,0]*v_k\n",
    "    \n",
    "    if LA.norm(v)>.1**5: #numerical error\n",
    "        v_ct.append(LA.norm(v))\n",
    "        ctxt_bas.append(v/LA.norm(v))  # makes sure all basis vectors are normalised\n",
    "        D=D+1 #we increase the effective dimension\n",
    "        \n",
    "        #We increase the dimensions of A_n and b_n\n",
    "        A_n=np.identity(K*(D))*0\n",
    "        A_n=np.matrix(A_n)\n",
    "        b_n=np.zeros([K*(D),1])\n",
    "        b_n=np.matrix(b_n)\n",
    "        for k in range(K): \n",
    "            A_n[k*D:(k*D+D-1),k*D:(k*D+D-1)]=A[k*(D-1):(k*(D-1)+D-1),k*(D-1):(k*(D-1)+D-1)]\n",
    "            b_n[k*D:(k*D+D-1),0]=b[k*(D-1):(k*(D-1)+D-1),0]\n",
    "            A_n[k*D+D-1,k*D+D-1]=1\n",
    "        \n",
    "        A=A_n\n",
    "        b=b_n\n",
    "        \n",
    "     \n",
    "    ArmsvG=[]\n",
    "    for arms in Armsv: \n",
    "        arms=np.matrix(arms)\n",
    "        arms=arms.getH()\n",
    "            \n",
    "        for v in ctxt_bas:  \n",
    "            \n",
    "            ArmsvG.append((v.getH()@arms)[0,0])\n",
    "    ArmsvG=np.matrix(ArmsvG)\n",
    "    ArmsvG=ArmsvG.getH()  #ArmsvG is one long vector, basically theta*\n",
    "        \n",
    "    v_ct=np.matrix(v_ct)\n",
    "    v_ct=v_ct.getH()   \n",
    "    \n",
    "    return [ctxt_bas,A,b,v_ct,D,ArmsvG]\n",
    "\n",
    "#Functions concatenate vectors - for storing all the b- vectors as one long vector.\n",
    "def concat(K,arms,x):\n",
    "    D=np.size(x)\n",
    "    c_at=np.zeros([K*D,1])\n",
    "    for i in range(np.size(x)):\n",
    "        c_at[arms*np.size(x)+i,0]=x[0,i]\n",
    "    c_at=np.matrix(c_at)\n",
    "    return c_at\n",
    "\n",
    "# function for random hamiltonians. Currently just ising, later will add others. Arguement in function is for chosing\n",
    "# the hamiltonian family.\n",
    "\n",
    "\n",
    "def linUCBGram_ising(T,t_rate,K,n,Armsv): #inputs T:number of rounds, t_rate: how often we plot K number of arms n qubits Armsv vecotr with all arms to learn\n",
    "    \n",
    "    Armsvp=Armsv\n",
    "    Armsv=np.matrix(Armsv)\n",
    "    #Armsv=Armsv.getH()\n",
    "    \n",
    "    alpha=np.sqrt(0.5*np.log(2*T*K)-.5*np.log(.01))     \n",
    "    ctxt_ch=[] #we store the parameters that define the hamiltonian at each round\n",
    "    Arms_alg=[] #arms that the algorithm picks at each round, we store the label\n",
    "    Arms_opt=[] #label for the optimal arm at each round\n",
    "    Arms_alg_label=[] # phase label for the alg\n",
    "    Arms_opt_label=[] # optimal phase label\n",
    "    a_max=0 #dummy variable to store the label picked by the algorithm\n",
    "    a_maxR=0 #dummy variable to store the label of the optimal arm\n",
    "    Regretv=[] #we store the instantaneous regret at each time step t\n",
    "    Rewards=[] #we store the reward at each time step t\n",
    "    regret=0 #dummy variable that is updated at t_rate\n",
    "    Pr=[] \n",
    "    ctxt_bas=[] #set of orthoganl basis that Grahm schmidt is giving\n",
    "    D=0 #effective dimension\n",
    "    regret_list=[] #cumulative regret using t_rate\n",
    "    A=np.identity(K*0) #desing matrix\n",
    "    b=np.matrix([]) #sum reward per arm\n",
    "    b=b.getH() #we need column vector\n",
    "    for t in range(T):\n",
    "        #THIS IS THE RANDOM HAMILTONIAN GENERATING FUNCTION, CHANGE THE ARGUEMENT TO HAVE DIFFERENT FAMILIES\n",
    "        j1=np.random.uniform(-10,10, size=1)    \n",
    "        j0=np.random.uniform(-4,4, 1)*0+1 #to match date type\n",
    "        j2=np.random.uniform(-10,10, size=1)       \n",
    "        v=[-j1]*n+[j0]*n+[-j2]*n #vector corresponding to the hamiltonian\n",
    "        v=np.matrix(v) \n",
    "        v=v.getH()\n",
    "        #[v,j1,j2]=randHam(1)     # 1 is just an arguement I added, in case you want to modularise the code later.\n",
    "        ctxt_ch.append([j1,j2]) #we store the parameters \n",
    "        \n",
    "        [ctxt_bas,A,b,x,D,ArmsvG]=gram(v,ctxt_bas,A,b,K,Armsv)  \n",
    "        #LATTIMORE ALPHA\n",
    "        alpha=(1+ np.sqrt(K*D*np.log(1+t*36/(K*D))-2*np.log(.01)))        \n",
    "\n",
    "        ArmsvGm=np.matrix(ArmsvG) #real arms \n",
    "        if t==0: #DEFINE AT THE BEGGINING!!!!!!!!!!!!!!!!!!!!!!!\n",
    "            A=np.identity(K)\n",
    "            b=np.zeros([K,1])\n",
    "            A=np.matrix(A)\n",
    "            b=np.matrix(b)\n",
    "        #const=np.sqrt(np.trace(ArmsvGm.getH()@ArmsvGm))\n",
    "        \n",
    "        x=x.getH()     # context in grahm schmidt is now a column vector \n",
    "        \n",
    "        #theta=LA.inv(A)@b\n",
    "        c_max=np.zeros([K*D,1]) #vector corresponding to the context 00000 context 0000\n",
    "        c_max=np.matrix(c_max)\n",
    "        c_maxR=np.zeros([K*D,1]) # vector correspoding to context 00000 context but for theoptimal arm\n",
    "        c_maxR=np.matrix(c_max) \n",
    "        ucb_max=-100000 #dummy variable to put the estimated mean with over confidence for the one that the algorithm picks\n",
    "        \n",
    "        for a in range(K):\n",
    "            c_at=concat(K,a,x) #deconcadenating\n",
    "            A_n=(A[a*D:(a+1)*D,a*D:(a+1)*D]).copy()\n",
    "            b_n=(b[a*D:(a+1)*D,0]).copy()\n",
    "            theta_n=LA.inv(A_n)@b_n #the estimate for arm a \n",
    "            \n",
    "            ucb=x@theta_n+alpha*np.sqrt(x@LA.inv(A_n)@x.getH())/2 #*const\n",
    "            if ucb>ucb_max:\n",
    "                ucb_max=ucb\n",
    "                c_max=c_at\n",
    "                a_max=a\n",
    "        Arms_alg.append(a_max)\n",
    "        #FOR THE CLASSIFIER REGRET IT DEPENDS ON THE PARTICULAR ORDERING\n",
    "        if a_max<K/2:\n",
    "            Arms_alg_label.append(0)\n",
    "        else:\n",
    "            Arms_alg_label.append(1)\n",
    "    #--------------------------------------------------------------next, Regret calculation---------------------\n",
    "        expR_max=-100000 #MAXIMAL EXPECTED REWARD\n",
    "        for a in range(K):\n",
    "            c_at=concat(K,a,x)  \n",
    "              \n",
    "            rR=(-ArmsvG.getH()@c_at)[0,0] #EXPECTED REWARD FOR EACH ARM MINUS BECAUSE LOW ENERGY\n",
    "            \n",
    "            if rR>expR_max:\n",
    "                expR_max=rR\n",
    "                c_maxR=c_at\n",
    "                a_maxR=a\n",
    "        Arms_opt.append(a_maxR)\n",
    "        #For the classification\n",
    "        if a_maxR<K/2:\n",
    "            Arms_opt_label.append(0)\n",
    "        else:\n",
    "            Arms_opt_label.append(1)\n",
    "\n",
    "        #reward=np.random.binomial(size=1, n=1, p=pr)\n",
    "        #reward=sampler_ising(a_max,context[t],prob_grid,eigvalN)\n",
    "        #tuning alpha pagemark\n",
    "        reward=-bernMeas(v,Armsvp,a_max)\n",
    "        Rewards.append(reward)\n",
    "        #use the varible corresponding to optimal expected reward\n",
    "        regret=np.real((-ArmsvG.getH()@c_maxR)[0,0]-(-ArmsvG.getH()@c_max)[0,0])*2**n\n",
    "       \n",
    "        Regretv.append(np.real(regret))\n",
    "        A+=c_max@c_max.getH()\n",
    "        b+=reward[0]*c_max\n",
    "        if t%t_rate==0: \n",
    "            \n",
    "            regret_list.append(sum(Regretv))\n",
    "    #print(Arms_alg,Arms_opt)\n",
    "    #print(D,ArmsvG,ctxt_bas)\n",
    "    return [regret_list,Arms_alg,Arms_opt,ctxt_ch]\n",
    "\n",
    "def clustHam(j1,j2):\n",
    "    # Define Hamiltonian using Qibo symbols\n",
    "    # ZZ terms\n",
    "    symbolic_ham = -j1*sum(X(i) * X((i + 1)%n) for i in range(n))\n",
    "    # periodic boundary condition term\n",
    "    symbolic_ham -=j2*sum(X((i-1)%n)*Z(i%n) * X((i + 1)%n) for i in range(n))\n",
    "    # X terms\n",
    "    symbolic_ham += sum(Z(i) for i in range(n))\n",
    "\n",
    "    # Define a Hamiltonian using the above form\n",
    "    ham = hamiltonians.SymbolicHamiltonian(symbolic_ham)\n",
    "    # This Hamiltonian is memory efficient as it does not construct the full matrix\n",
    "    #v=np.matrix(ham.eigenvectors()[0])\n",
    "    return ham\n",
    "def clustHam0(j1,j2):\n",
    "    # Define Hamiltonian using Qibo symbols\n",
    "    # ZZ terms\n",
    "    symbolic_ham = -j1*sum(X(i) * X((i + 1)%n) for i in range(n))\n",
    "    # periodic boundary condition term\n",
    "    symbolic_ham -=j2*sum(X((i-1)%n)*Z(i%n) * X((i + 1)%n) for i in range(n))\n",
    "    # X terms\n",
    "    #symbolic_ham += 0*sum(Z(i) for i in range(n))\n",
    "\n",
    "    # Define a Hamiltonian using the above form\n",
    "    ham = hamiltonians.SymbolicHamiltonian(symbolic_ham)\n",
    "    # This Hamiltonian is memory efficient as it does not construct the full matrix\n",
    "    #v=np.matrix(ham.eigenvectors()[0])\n",
    "    return ham\n",
    "\n",
    "def bernMeas(v,Armsv,k): #v is the context vector, k is the arm that we are interested\n",
    "    random_reward=0\n",
    "    for i in range(len(Armsv[k])): #we use just the k arm\n",
    "        pr=(2**n*Armsv[k][i]+1)/2\n",
    "        \n",
    "        random_reward+=v[0,i]*(2*np.random.binomial(size=1,n=1,p=pr)-1)\n",
    "    return random_reward\n",
    "        \n",
    "        \n",
    "        "
   ]
  },
  {
   "cell_type": "code",
   "execution_count": 4,
   "id": "d7d5bb9e",
   "metadata": {},
   "outputs": [],
   "source": [
    "def linOpt_ising(T,t_rate,K,n,Armsv):\n",
    "    \n",
    "    Armsv=np.matrix(Armsv)\n",
    "    #Armsv=Armsv.getH()\n",
    "    \n",
    "    alpha=np.sqrt(0.5*np.log(2*T*K)-.5*np.log(.01))    \n",
    "    ctxt_ch=[]\n",
    "    Arms_alg=[]\n",
    "    Arms_opt=[]\n",
    "    Arms_alg_label=[]\n",
    "    Arms_opt_label=[]\n",
    "    a_max=0\n",
    "    a_maxR=0\n",
    "    Regretv=[]\n",
    "    Rewards=[]\n",
    "    regret=0\n",
    "    Pr=[]\n",
    "    ctxt_bas=[]\n",
    "    D=0\n",
    "    regret_list=[]\n",
    "    A=np.identity(K*0)*3\n",
    "    b=np.matrix([])\n",
    "    b=b.getH()\n",
    "    for t in range(T):\n",
    "        #THIS IS THE RANDOM HAMILTONIAN GENERATING FUNCTION, CHANGE THE ARGUEMENT TO HAVE DIFFERENT FAMILIES\n",
    "        j1=np.random.uniform(-4,4, 1)    \n",
    "        j0=np.random.uniform(-4,4, 1)*0+1  \n",
    "        j2=np.random.uniform(-4,4, size=1)       \n",
    "        v=[-j1]*n+[j0]*n+[-j2]*n\n",
    "        v=np.matrix(v)\n",
    "        v=v.getH()\n",
    "        #[v,j1,j2]=randHam(1)     # 1 is just an arguement I added, in case you want to modularise the code later.\n",
    "        ctxt_ch.append([j1,j2])\n",
    "        \n",
    "        [ctxt_bas,A,b,x,D,ArmsvG]=gram(v,ctxt_bas,A,b,K,Armsv)  \n",
    "        #LATTIMORE ALPHA\n",
    "        alpha=(1+ np.sqrt(K*D*np.log(1+t*36/(K*D))-2*np.log(.01)))/80   \n",
    "\n",
    "        ArmsvGm=np.matrix(ArmsvG)\n",
    "        if t==0: \n",
    "            A=np.identity(K)\n",
    "            b=np.zeros([K,1])\n",
    "            A=np.matrix(A)\n",
    "            b=np.matrix(b)\n",
    "        #const=np.sqrt(np.trace(ArmsvGm.getH()@ArmsvGm))\n",
    "        \n",
    "        x=x.getH()     # context is now a column vector \n",
    "        \n",
    "        #theta=LA.inv(A)@b\n",
    "        c_max=np.zeros([K*D,1])\n",
    "        c_max=np.matrix(c_max)\n",
    "        c_maxR=np.zeros([K*D,1])\n",
    "        c_maxR=np.matrix(c_max)\n",
    "        ucb_max=-100000\n",
    "        ucbL=[]\n",
    "        \n",
    "     \n",
    "    #--------------------------------------------------------------next, Regret calculation---------------------\n",
    "        expR_max=-100000\n",
    "        for a in range(K):\n",
    "            c_at=concat(K,a,x)  \n",
    "              \n",
    "            rR=(-ArmsvG.getH()@c_at)[0,0]\n",
    "            \n",
    "            if rR>expR_max:\n",
    "                expR_max=rR\n",
    "                c_maxR=c_at\n",
    "                a_maxR=a\n",
    "        Arms_opt.append(a_maxR)\n",
    "        if a_maxR<K/2:\n",
    "            Arms_opt_label.append(0)\n",
    "        else:\n",
    "            Arms_opt_label.append(1)\n",
    "\n",
    "        #reward=np.random.binomial(size=1, n=1, p=pr)\n",
    "        #reward=sampler_ising(a_max,context[t],prob_grid,eigvalN)\n",
    "        reward=np.random.normal((-ArmsvG.getH()@c_max)[0,0], 1, 1)\n",
    "        Rewards.append(reward)\n",
    "        \n",
    " \n",
    "    #print(Arms_alg,Arms_opt)\n",
    "    #print(D,ArmsvG,ctxt_bas)\n",
    "    return [Arms_opt,ctxt_ch]"
   ]
  },
  {
   "cell_type": "markdown",
   "id": "47829ea7",
   "metadata": {},
   "source": [
    "Ising Model Hamiltonians as contexts \n",
    "\n",
    "$H=\\sum_{i=1}^{N}c(Z_i \\otimes Z_{i+1}+hX_i)$"
   ]
  },
  {
   "cell_type": "code",
   "execution_count": 5,
   "id": "da2f50ff",
   "metadata": {},
   "outputs": [],
   "source": [
    "import qibo\n",
    "#qibo.set_backend(\"tensorflow\")\n",
    "from qibo.models import Circuit\n",
    "from qibo import gates\n",
    "from qibo.hamiltonians import TFIM\n",
    "from qibo.hamiltonians import XXZ\n",
    "from qibo import hamiltonians\n",
    "from qibo.symbols import X, Z, Y\n"
   ]
  },
  {
   "cell_type": "code",
   "execution_count": 6,
   "id": "9d0e8797",
   "metadata": {
    "scrolled": true
   },
   "outputs": [
    {
     "name": "stdout",
     "output_type": "stream",
     "text": [
      "['sx', 0, 'sx', 1]\n",
      "['sx', 1, 'sx', 2]\n",
      "['sx', 2, 'sx', 3]\n",
      "['sx', 3, 'sx', 4]\n",
      "['sx', 4, 'sx', 5]\n",
      "['sx', 5, 'sx', 6]\n",
      "['sx', 0, 'sx', 6]\n",
      "['sz', 0]\n",
      "['sz', 1]\n",
      "['sz', 2]\n",
      "['sz', 3]\n",
      "['sz', 4]\n",
      "['sz', 5]\n",
      "['sz', 6]\n",
      "['sz', 0, 'sx', 1, 'sx', 6]\n",
      "['sx', 0, 'sz', 1, 'sx', 2]\n",
      "['sx', 1, 'sz', 2, 'sx', 3]\n",
      "['sx', 2, 'sz', 3, 'sx', 4]\n",
      "['sx', 3, 'sz', 4, 'sx', 5]\n",
      "['sx', 4, 'sz', 5, 'sx', 6]\n",
      "['sx', 0, 'sx', 5, 'sz', 6]\n"
     ]
    }
   ],
   "source": [
    "# TO CHANGE NO. OF QIBITS, CHANGE N. PAULI_BAS IS NEAR NEIGHBOUR TERMS FOR PAULI BASIS\n",
    "n=7      # TO INCREASE NO. OF QUBITS, JUST CHANGE n.\n",
    "pauli_bas=[]\n",
    "for i in range(n):\n",
    "    p=1\n",
    "    pvec=[]\n",
    "    for j in range(n):\n",
    "        if j!=(i%(n)) and j!=((i+1)%(n)):\n",
    "            p=np.kron(p,np.eye(2))\n",
    "            \n",
    "        else: \n",
    "            p=np.kron(p,sx)\n",
    "            pvec.append(\"sx\")\n",
    "            pvec.append(j)\n",
    "\n",
    "    pauli_bas.append(p)\n",
    "    print(pvec)\n",
    "# MAKING A LIST OF SUCH PAULI CHAINS\n",
    "for i in range(n):\n",
    "    p=1\n",
    "    pvec=[]\n",
    "    for j in range(n):\n",
    "        if j!=(i%(n)):\n",
    "            p=np.kron(p,np.eye(2))\n",
    "        else: \n",
    "            p=np.kron(p,sz)\n",
    "            pvec.append(\"sz\")\n",
    "            pvec.append(j)\n",
    "    pauli_bas.append(p)\n",
    "    print(pvec)   \n",
    "for i in range(n):\n",
    "    p=1\n",
    "    pvec=[]\n",
    "    for j in range(n):\n",
    "        if j==(i-1)%n or j==(i+1)%n: \n",
    "            p=np.kron(p,sx)\n",
    "            pvec.append(\"sx\")\n",
    "            pvec.append(j)\n",
    "        elif j==i%n: \n",
    "            p=np.kron(p,sz)\n",
    "            pvec.append(\"sz\")\n",
    "            pvec.append(j)\n",
    "        else: \n",
    "            p=np.kron(p,np.eye(2))\n",
    "    pauli_bas.append(p)\n",
    "    print(pvec)    \n",
    "        \n",
    "    \n"
   ]
  },
  {
   "cell_type": "code",
   "execution_count": 7,
   "id": "d0beca76",
   "metadata": {},
   "outputs": [],
   "source": [
    "from numpy.linalg import matrix_rank\n"
   ]
  },
  {
   "cell_type": "code",
   "execution_count": 9,
   "id": "ea0d5ea3",
   "metadata": {
    "scrolled": true
   },
   "outputs": [
    {
     "name": "stderr",
     "output_type": "stream",
     "text": [
      "[Qibo 0.1.8|INFO|2023-05-15 15:19:34]: Using qibojit (numba) backend on /CPU:0\n",
      "[Qibo 0.1.8|WARNING|2023-05-15 15:19:34]: Calculating the dense form of a symbolic Hamiltonian. This operation is memory inefficient.\n",
      "[Qibo 0.1.8|WARNING|2023-05-15 15:19:34]: Calculating the dense form of a symbolic Hamiltonian. This operation is memory inefficient.\n",
      "[Qibo 0.1.8|WARNING|2023-05-15 15:19:34]: Calculating the dense form of a symbolic Hamiltonian. This operation is memory inefficient.\n",
      "[Qibo 0.1.8|WARNING|2023-05-15 15:19:34]: Calculating the dense form of a symbolic Hamiltonian. This operation is memory inefficient.\n",
      "[Qibo 0.1.8|WARNING|2023-05-15 15:19:34]: Calculating the dense form of a symbolic Hamiltonian. This operation is memory inefficient.\n"
     ]
    },
    {
     "name": "stdout",
     "output_type": "stream",
     "text": [
      "[[-1.25000000e-01-0.j]\n",
      " [ 1.25000000e-01-0.j]\n",
      " [-6.16652897e-18-0.j]\n",
      " [-1.25000000e-01-0.j]\n",
      " [-1.25000000e-01-0.j]\n",
      " [ 1.25000000e-01-0.j]\n",
      " [ 9.68778175e-18-0.j]\n",
      " [-5.70497534e-18-0.j]\n",
      " [-1.25000000e-01-0.j]\n",
      
    
      " [-0.-0.j]\n",
      " [-0.-0.j]]\n"
     ]
    }
   ],
   "source": [
    "# SELECTING ARMS. K IS THE NUMBER OF ARMS. HALF OF THEM ARE RANDOMLY CHOSEN FROM EACH PHASE TRANSITION AREA.\n",
    "\n",
    "K=5                         # TO CHANGE NO. OF ARMS, JUST CHANGE K.\n",
    "Armsv=[]\n",
    "D=2**n \n",
    "eps=1\n",
    "arms=[]\n",
    "coords=[[0,-1],[3,0],[-3,0],[0,3],[0,0]]\n",
    "for i in range(K):\n",
    "    j1=coords[i][0]\n",
    "    j2=coords[i][1]\n",
    "    H=clustHam0(j1,j2)   \n",
    "    if i==4:\n",
    "        H=-1*clustHam(j1,j2)        \n",
    "    v=np.matrix(-H.eigenvectors())[:,0]\n",
    "    print(v)\n",
    "    rho= ((1-eps)*np.identity(2**n)/(2**n)+eps*v@v.getH()) \n",
    "    rho=np.matrix(rho)\n",
    "    arms.append(rho) \n",
    "#create vectors for each rho \n",
    "    v=[]\n",
    "    for p in pauli_bas:\n",
    "        v.append(-(np.trace(rho@p))/(2**(n)))   # CHECK NORMALISATION\n",
    "    \n",
    "    Armsv.append(v)\n"
   ]
  },
  {
   "cell_type": "code",
   "execution_count": 10,
   "id": "4aeb9fd0",
   "metadata": {},
   "outputs": [
    {
     "data": {
      "text/plain": [
       "array([-7., -5., -5., -5., -5., -5., -5., -5., -3., -3., -3., -3., -3.,\n",
       "       -3., -3., -3., -3., -3., -3., -3., -3., -3., -3., -3., -3., -3.,\n",
       "       -3., -3., -3., -1., -1., -1., -1., -1., -1., -1., -1., -1., -1.,\n",
       "       -1., -1., -1., -1., -1., -1., -1., -1., -1., -1., -1., -1., -1.,\n",
       "       -1., -1., -1., -1., -1., -1., -1., -1., -1., -1., -1., -1.,  1.,\n",
       "        1.,  1.,  1.,  1.,  1.,  1.,  1.,  1.,  1.,  1.,  1.,  1.,  1.,\n",
       "        1.,  1.,  1.,  1.,  1.,  1.,  1.,  1.,  1.,  1.,  1.,  1.,  1.,\n",
       "        1.,  1.,  1.,  1.,  1.,  1.,  1.,  1.,  3.,  3.,  3.,  3.,  3.,\n",
       "        3.,  3.,  3.,  3.,  3.,  3.,  3.,  3.,  3.,  3.,  3.,  3.,  3.,\n",
       "        3.,  3.,  3.,  5.,  5.,  5.,  5.,  5.,  5.,  5.,  7.])"
      ]
     },
     "execution_count": 10,
     "metadata": {},
     "output_type": "execute_result"
    }
   ],
   "source": [
    "H.eigenvalues()"
   ]
  },
  {
   "cell_type": "code",
   "execution_count": 11,
   "id": "250960d1",
   "metadata": {},
   "outputs": [],
   "source": [
    "# SELECTING ARMS. K IS THE NUMBER OF ARMS. HALF OF THEM ARE RANDOMLY CHOSEN FROM EACH PHASE TRANSITION AREA.\n",
    "\n",
    "n=6 # number of qubits\n",
    "K=5  #number of arms                     \n",
    "Armsv=[] #vectors for the arms, all of them\n",
    "D=2**n #Hilbert space dimension\n",
    "eps=1 #this denotes purity, between 0 and 1\n",
    "#arms=[] \n",
    "coords=[[0,-1,0],[1,0,0],[-1,0,0],[0,1,0],[0,0,-1],[0,0,1]] #coordinates for picking the arms the extra one if for the sigmax term\n",
    "\n",
    "#Here we generate the arms to learn \n",
    "# We do not include the identity term because it is not used during the computations\n",
    "for i in range(K):\n",
    "    j1=coords[i][0]\n",
    "    j2=coords[i][1]\n",
    "    j0=coords[i][2]\n",
    " \n",
    "    v=[0]*(3*n) #store all the vector corresponding to each arm, dummy vector\n",
    "    for i in range(n):\n",
    "        v[i]=(j1/(2**(n)))   # CHECK NORMALISATION\n",
    "    for i in range(n,2*n):\n",
    "        v[i]=(j0/(2**(n)))    # CHECK NORMALISATION\n",
    "    for i in range(2*n,3*n):\n",
    "        v[i]=(j2/(2**(n)))   # CHECK NORMALISATION    \n",
    "    Armsv.append(v)\n"
   ]
  },
  {
   "cell_type": "code",
   "execution_count": 12,
   "id": "2d85f66a",
   "metadata": {},
   "outputs": [
    {
     "data": {
      "text/plain": [
       "(0.0855816496101822, 5)"
      ]
     },
     "execution_count": 12,
     "metadata": {},
     "output_type": "execute_result"
    }
   ],
   "source": [
    "ArmsvM=np.matrix(Armsv) \n",
    "np.sqrt(np.trace(ArmsvM.getH()@ArmsvM)),K"
   ]
  },
  {
   "cell_type": "markdown",
   "id": "3855e9c4",
   "metadata": {},
   "source": [
    "EXECUTION SECTION"
   ]
  },
  {
   "cell_type": "code",
   "execution_count": 13,
   "id": "b472db4f",
   "metadata": {},
   "outputs": [
    {
     "name": "stderr",
     "output_type": "stream",
     "text": [
      "No artists with labels found to put in legend.  Note that artists whose label start with an underscore are ignored when legend() is called with no argument.\n"
     ]
    },
    {
     "data": {
      "image/png": "[encoded data removed]",
      "text/plain": [
       "<Figure size 432x288 with 1 Axes>"
      ]
     },
     "metadata": {
      "needs_background": "light"
     },
     "output_type": "display_data"
    }
   ],
   "source": [
    "T=10000          # No. of rounds pagemark\n",
    "t_rate=50         # Frequency of time stamps in the plot.\n",
    "sample_size=1     # no. of samples we average over. \n",
    "\n",
    "# SETTING T_ROUNDS FOR THE TIME LABELS.SOLE PURPOSE IS FOR PLOTTING, NOT INVOLVED IN ALGORITHM.\n",
    "t_rounds=[] #list of time steps for the plot\n",
    "for i in range(0,T,t_rate):\n",
    "    t_rounds.append(i)\n",
    "    \n",
    "# regret_list FOR STORING VALUES OF EACH \n",
    "regret_list=[0]*int(T/t_rate) #expected regret\n",
    "classreg_list=[0]*int(T) #classifier regret\n",
    "\n",
    "for ss in range(sample_size):\n",
    "    [reg_list,Arms_alg,Arms_opt,ctxt_ch]=linUCBGram_ising(T,t_rate,K,n,Armsv)\n",
    "    for i in range(len(regret_list)):\n",
    "        regret_list[i]+=reg_list[i]/sample_size #be careful regret and reg list not the same\n",
    "\n",
    "# NOW, PLOTTING        \n",
    "plt.plot(t_rounds,regret_list, 'r')\n",
    "\n",
    "#plt.axis([0, 6, 0, 20])\n",
    "plt.xlabel(\"No. of Rounds\")\n",
    "plt.ylabel(\"Regret\")\n",
    "plt.legend(loc=\"lower right\")\n",
    "plt.title(\"Cluster Model \")\n",
    "plt.show()"
   ]
  },
  {
   "cell_type": "code",
   "execution_count": 14,
   "id": "49a64274",
   "metadata": {},
   "outputs": [
    {
     "data": {
      "text/plain": [
       "array([1.00887333])"
      ]
     },
     "execution_count": 14,
     "metadata": {},
     "output_type": "execute_result"
    },
    {
     "data": {
      "image/png": "[encoded data removed]",
      "text/plain": [
       "<Figure size 432x288 with 1 Axes>"
      ]
     },
     "metadata": {
      "needs_background": "light"
     },
     "output_type": "display_data"
    }
   ],
   "source": [
    "x=[]\n",
    "for a in range(6): \n",
    "    Rounds=int(T)\n",
    "    listj1=[]\n",
    "    listj2=[]\n",
    "    for tr in range(0,Rounds):        \n",
    "        if Arms_opt[tr]==a:\n",
    "            if a==3:\n",
    "                x.append(ctxt_ch[tr][1])\n",
    "            listj1.append(ctxt_ch[tr][0])\n",
    "            listj2.append(ctxt_ch[tr][1])\n",
    "    plt.scatter(listj1,listj2,10)\n",
    "min(x)"
   ]
  },
  {
   "cell_type": "code",
   "execution_count": 15,
   "id": "13c93bec",
   "metadata": {},
   "outputs": [
    {
     "name": "stderr",
     "output_type": "stream",
     "text": [
      "No artists with labels found to put in legend.  Note that artists whose label start with an underscore are ignored when legend() is called with no argument.\n"
     ]
    },
    {
     "data": {
      "image/png": "[encoded data removed]",
      "text/plain": [
       "<Figure size 432x288 with 1 Axes>"
      ]
     },
     "metadata": {
      "needs_background": "light"
     },
     "output_type": "display_data"
    }
   ],
   "source": [
    "len(t_rounds)\n",
    "plt.plot(t_rounds[10:],regret_list[10:], 'r')\n",
    "\n",
    "#plt.axis([0, 6, 0, 20])\n",
    "plt.xlabel(\"No. of Rounds\")\n",
    "plt.ylabel(\"Regret\")\n",
    "plt.legend(loc=\"lower right\")\n",
    "plt.title(\"Cluster Model\")\n",
    "plt.show()"
   ]
  },
  {
   "cell_type": "markdown",
   "id": "2a5b7f05",
   "metadata": {},
   "source": [
    "Observe the plot above. It is in this region that hard learning happens. Need to discuss in paper."
   ]
  },
  {
   "cell_type": "code",
   "execution_count": null,
   "id": "e4cffadc",
   "metadata": {},
   "outputs": [],
   "source": []
  },
  {
   "cell_type": "code",
   "execution_count": null,
   "id": "784228e3",
   "metadata": {},
   "outputs": [],
   "source": []
  },
  {
   "cell_type": "code",
   "execution_count": null,
   "id": "c1f5f001",
   "metadata": {},
   "outputs": [],
   "source": []
  }
 ],
 "metadata": {
  "kernelspec": {
   "display_name": "Python 3 (ipykernel)",
   "language": "python",
   "name": "python3"
  },
  "language_info": {
   "codemirror_mode": {
    "name": "ipython",
    "version": 3
   },
   "file_extension": ".py",
   "mimetype": "text/x-python",
   "name": "python",
   "nbconvert_exporter": "python",
   "pygments_lexer": "ipython3",
   "version": "3.9.12"
  }
 },
 "nbformat": 4,
 "nbformat_minor": 5
}
